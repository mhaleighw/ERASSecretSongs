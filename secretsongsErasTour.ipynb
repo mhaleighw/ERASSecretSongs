{
  "nbformat": 4,
  "nbformat_minor": 0,
  "metadata": {
    "colab": {
      "provenance": []
    },
    "kernelspec": {
      "name": "python3",
      "display_name": "Python 3"
    },
    "language_info": {
      "name": "python"
    }
  },
  "cells": [
    {
      "cell_type": "code",
      "source": [
        "concert_data = {\n",
        "    'march 17': 'Glendale, AZ - ‘mirrorball’ and \\'Tim McGraw\\'',\n",
        "    'march 18': 'Glendale, AZ - ‘State of Grace’ and ‘this is me trying’',\n",
        "    'march 24': 'Las Vegas, NV - \\'Our Song\\' and \\'Snow on the Beach\\'',\n",
        "    'march 25': 'Las Vegas, NV - \\'cowboy like me\\' (with Marcus Mumford) and \\'White Horse\\'',\n",
        "    'march 31': 'Arlington, TX - \\'Sad Beautiful Tragic\\' and \\'Ours\\'',\n",
        "    'april 1': 'Arlington, TX - \\'Death By a Thousand Cuts\\' and \\'Clean\\'',\n",
        "    'april 2': 'Arlington, TX - \\'Jump Then Fall\\' and \\'The Lucky One\\'',\n",
        "    'april 13': 'Tampa, FL - \\'Speak Now\\' and \\'Treacherous\\'',\n",
        "    'april 14': 'Tampa, FL - \\'The Great War\\' (with Aaron Dessner) and \\'You\\'re On Your Own Kid\\'',\n",
        "    'april 15': 'Tampa, FL - \\'mad woman\\' (with Aaron Dessner) and \\'Mean\\'',\n",
        "    'april 21': 'Houston, TX - ‘Wonderland’ and ‘You’re Not Sorry’',\n",
        "    'april 22': 'Houston, TX - ‘A Place In This World’ and ‘Today Was A Fairytale’',\n",
        "    'april 23': 'Houston, TX - ‘Begin Again’ and ‘Cold as You’',\n",
        "    'april 28': 'Atlanta, GA - ‘The Other Side of the Door’ and ‘Coney Island’',\n",
        "    'april 29': 'Atlanta, GA - ‘High Infidelity’ and ‘Gorgeous’',\n",
        "    'april 30': 'Atlanta, GA - ‘I Bet You Think About Me’ and ‘How You Get The Girl’',\n",
        "    'may 5': 'Nashville, TN - ‘Sparks Fly’ and ‘Teardrops On My Guitar’',\n",
        "    'may 6': 'Nashville, TN - ‘Out of the Woods’ and ‘Fifteen’',\n",
        "    'may 7': 'Nashville, TN - ‘Would\\'ve Could\\'ve Should\\'ve\\' (with Aaron Dessner) and ‘Mine’',\n",
        "    'may 12': 'Philadelphia, PA - ‘gold rush’ and ‘Come Back... Be Here’',\n",
        "    'may 13': 'Philadelphia, PA - ‘Forever & Always’ and ‘This Love’',\n",
        "    'may 14': 'Philadelphia, PA - ‘Hey Stephen’ and ‘The Best Day’',\n",
        "    'may 19': 'Foxborough, MA - ‘Should\\'ve Said No’ and ‘Better Man’',\n",
        "    'may 20': 'Foxborough, MA - ‘Question...?’ and ‘Invisible’',\n",
        "    'may 21': 'Foxborough, MA - ‘I Think He Knows’ and ‘Red’',\n",
        "    'may 26': 'East Rutherford, NJ - ‘Getaway Car’ (with Jack Antonoff) and ‘Maroon’',\n",
        "    'may 27': 'East Rutherford, NJ - ‘Holy Ground’ and ‘False God’',\n",
        "    'may 28': 'East Rutherford, NJ - ‘Welcome To New York’ and ‘Clean’',\n",
        "    'june 2': 'Chicago, IL - ‘I Wish You Would’ and ‘the lakes’',\n",
        "    'june 3': 'Chicago, IL - ‘You All Over Me’ (with Maren Morris) and ‘I Don\\'t Wanna Live Forever’',\n",
        "    'june 4': 'Chicago, IL - ‘Hits Different’ and ‘The Moment I Knew’',\n",
        "    'june 9': 'Detroit, MI - ‘Haunted’ and ‘I Almost Do’',\n",
        "    'june 10': 'Detroit, MI - ‘All You Had To Do Was Stay’ and ‘Breathe’',\n",
        "    'june 16': 'Pittsburgh, PA - ‘Mr. Perfectly Fine’ and ‘The Last Time’',\n",
        "    'june 17': 'Pittsburgh, PA - ‘seven’ (with Aaron Dessner) and ‘The Story of Us’',\n",
        "    'june 23': 'Minneapolis, MN - ‘Paper Rings’ and ‘If This Was A Movie’',\n",
        "    'june 24': 'Minneapolis, MN - ‘Dear John’ and ‘Daylight’',\n",
        "    'june 30': 'Cincinnati, OH - ‘I\\'m Only Me When I\\'m With You’ and ‘evermore’',\n",
        "    'july 1': 'Cincinnati, OH - ‘ivy’ (with Aaron Dessner), ‘I miss you, I’m sorry’ (with Gracie Abrams) and ‘Call It What You Want’',\n",
        "    'july 7': 'Kansas City, MO - ‘Never Grow Up’ and ‘When Emma Falls in Love’',\n",
        "    'july 8': 'Kansas City, MO - ‘Last Kiss’ and ‘dorothea’',\n",
        "    'july 14': 'Denver, CO - ‘Picture To Burn’ and ‘Timeless’',\n",
        "    'july 15': 'Denver, CO - ‘Starlight’ and ‘Back To December’',\n",
        "    'july 22': 'Seattle, WA - ‘This Is Why We Can\\'t Have Nice Things’ and ‘Everything Has Changed’',\n",
        "    'july 23': 'Seattle, WA - ‘Message In A Bottle’ and ‘Tied Together With A Smile’',\n",
        "    'july 28': 'Santa Clara, CA - ‘right where you left me’ (with Aaron Dessner) and ‘Castles Crumbling’',\n",
        "    'july 29': 'Santa Clara, CA - ‘Stay Stay Stay’ and ‘All of the Girls You\\'ve Loved Before’',\n",
        "    'august 3': 'Los Angeles, CA - ‘I Can See You’ and ‘Maroon’',\n",
        "    'august 4': 'Los Angeles, CA - ‘Our Song’ and ‘You Are In Love’',\n",
        "    'august 5': 'Los Angeles, CA - ‘Death By A Thousand Cuts’ and ‘You\\'re On Your Own, Kid’',\n",
        "    'august 7': 'Los Angeles, CA - ‘Dress’ and ‘exile’',\n",
        "    'august 8': 'Los Angeles, CA - ‘I Know Places’ and ‘King of My Heart’',\n",
        "    'august 9': 'Los Angeles, CA - ‘New Romantics’ and ‘New Year\\'s Day’',\n",
        "    'august 24': 'Mexico City, Mexico - ‘I Forgot That You Existed’ and ‘Sweet Nothing’',\n",
        "    'august 25': 'Mexico City, Mexico - ‘Tell Me Why’ and ‘Snow on the Beach’',\n",
        "    'august 26': 'Mexico City, Mexico - ‘Cornelia Street’ and ‘You\\'re On Your Own, Kid’',\n",
        "    'august 27': 'Mexico City, Mexico - ‘Afterglow’ and ‘Maroon’',\n",
        "    'november 9': 'Buenos Aires, Argentina - ‘The Very First Night’ and ‘Labyrinth’',\n",
        "    'november 11': 'Buenos Aires, Argentina - ‘Is It Over Now?’+ ‘Out of the Woods’ mashup and ‘End Game’',\n",
        "    'november 12': 'Buenos Aires, Argentina - ‘Better Than Revenge’ and ‘Slut!’',\n",
        "    'november 17': 'Rio De Janeiro, Brazil - ‘Stay Beautiful’ and ‘Suburban Legends’',\n",
        "    'november 19': 'Rio De Janeiro, Brazil - ‘Dancing With Our Hands Tied’ and ‘Bigger Than The Whole Sky’',\n",
        "    'november 20': 'Rio De Janeiro, Brazil - ‘ME!’ and ‘So It Goes...’',\n",
        "    'november 24': 'São Paulo, Brazil - ‘Now That We Don\\'t Talk’ and ‘Innocent’',\n",
        "    'november 25': 'São Paulo, Brazil - ‘Safe & Sound’ and ‘Untouchable’',\n",
        "    'november 26': 'São Paulo, Brazil - ‘Say Don\\'t Go’ and ‘it\\'s time to go’'\n",
        "}"
      ],
      "metadata": {
        "id": "YYB5JTDMiedS"
      },
      "execution_count": 11,
      "outputs": []
    },
    {
      "cell_type": "code",
      "execution_count": 23,
      "metadata": {
        "colab": {
          "base_uri": "https://localhost:8080/"
        },
        "id": "dxhBwl7ZfmWU",
        "outputId": "8215fd94-185d-4789-b0e2-03f49168c075"
      },
      "outputs": [
        {
          "output_type": "stream",
          "name": "stdout",
          "text": [
            "Enter the date of the concert (month, day): december 2\n",
            "\n",
            "Taylor Swift performed:\n",
            "Nothing. There was no concert on this day.\n"
          ]
        }
      ],
      "source": [
        "def get_songs(date):\n",
        "    return concert_data.get(date.lower(), 'Nothing. There was no concert on this day.')\n",
        "\n",
        "def show_concert_info():\n",
        "    user_date = entry_date.get()\n",
        "    songs = get_songs(user_date)\n",
        "\n",
        "if __name__ == \"__main__\":\n",
        "    # User input\n",
        "    user_date = input(\"Enter the date of the concert (month, day): \")\n",
        "\n",
        "    # Get and print songs for the given date\n",
        "    songs = get_songs(user_date)\n",
        "    print(f\"\\nTaylor Swift performed:\\n{songs}\")\n"
      ]
    }
  ]
}